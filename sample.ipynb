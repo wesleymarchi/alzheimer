{
 "cells": [
  {
   "metadata": {},
   "cell_type": "markdown",
   "source": [
    "# This is a sample Jupyter Notebook\n",
    "\n",
    "Below is an example of a code cell. \n",
    "Put your cursor into the cell and press Shift+Enter to execute it and select the next one, or click !here goes the icon of the corresponding button in the gutter! button.\n",
    "To debug a cell, press Alt+Shift+Enter, or click !here goes the icon of the corresponding button in the gutter! button.\n",
    "\n",
    "Press Double Shift to search everywhere for classes, files, tool windows, actions, and settings.\n",
    "\n",
    "To learn more about Jupyter Notebooks in PyCharm, see [help](https://www.jetbrains.com/help/pycharm/jupyter-notebook-support.html).\n",
    "For an overview of PyCharm, go to Help -> Learn IDE features or refer to [our documentation](https://www.jetbrains.com/help/pycharm/getting-started.html)."
   ],
   "id": "8a77807f92f26ee"
  },
  {
   "metadata": {
    "ExecuteTime": {
     "end_time": "2024-10-03T19:32:30.173002Z",
     "start_time": "2024-10-03T19:32:30.169983Z"
    }
   },
   "cell_type": "code",
   "source": [
    "from keras.src.models import Sequential\n",
    "from keras.src.layers import Conv2D, MaxPooling2D, Flatten, Dense\n",
    "from keras.preprocessing.image import ImageDataGenerator\n",
    "import numpy as np\n",
    "from keras.preprocessing import image\n",
    "import tensorflow as tf"
   ],
   "id": "fbc121e30a2defb3",
   "outputs": [],
   "execution_count": 4
  },
  {
   "metadata": {
    "ExecuteTime": {
     "end_time": "2024-10-03T19:32:30.960674Z",
     "start_time": "2024-10-03T19:32:30.957164Z"
    }
   },
   "cell_type": "code",
   "source": [
    "# Verificar se há GPUs disponíveis\n",
    "gpus = tf.config.list_physical_devices('GPU')\n",
    "\n",
    "if gpus:\n",
    "    print(f\"GPUs disponíveis: {gpus}\")\n",
    "else:\n",
    "    print(\"Nenhuma GPU disponível.\")"
   ],
   "id": "539dc514b5ce029",
   "outputs": [
    {
     "name": "stdout",
     "output_type": "stream",
     "text": [
      "Nenhuma GPU disponível.\n"
     ]
    }
   ],
   "execution_count": 5
  },
  {
   "metadata": {
    "ExecuteTime": {
     "end_time": "2024-10-03T19:32:36.143256Z",
     "start_time": "2024-10-03T19:32:35.981881Z"
    }
   },
   "cell_type": "code",
   "source": [
    "# Inicializa a CNN\n",
    "classfier = Sequential()\n",
    "\n",
    "# Convolução\n",
    "classfier.add(Conv2D(32, (3, 3), input_shape=(256, 124, 1), activation='relu')) \n",
    "\n",
    "# Pooling\n",
    "classfier.add(MaxPooling2D(pool_size=(2, 2)))\n",
    "\n",
    "# Flattening\n",
    "classfier.add(Flatten())\n",
    "\n",
    "# Conexão completa\n",
    "classfier.add(Dense(units=128, activation='relu'))\n",
    "classfier.add(Dense(units=1, activation='sigmoid'))\n",
    "\n",
    "# Compilando a rede com class_weight\n",
    "classfier.compile(optimizer='adam', loss='binary_crossentropy', metrics=['accuracy'])"
   ],
   "id": "a65b28ddfd9f286c",
   "outputs": [],
   "execution_count": 6
  },
  {
   "metadata": {
    "ExecuteTime": {
     "end_time": "2024-10-03T19:32:37.225681Z",
     "start_time": "2024-10-03T19:32:36.846605Z"
    }
   },
   "cell_type": "code",
   "source": [
    "# Aumentando dados\n",
    "train_datagen = ImageDataGenerator(\n",
    "    rescale=1./255,\n",
    "    shear_range=0.2,\n",
    "    zoom_range=0.2,\n",
    "    horizontal_flip=True)\n",
    "\n",
    "test_datagen = ImageDataGenerator(rescale=1./255)\n",
    "\n",
    "# Assegurando que a proporção de classes seja considerada\n",
    "training_set = train_datagen.flow_from_directory(\n",
    "    'data/mri/train',\n",
    "    target_size=(256, 124),\n",
    "    batch_size=32,\n",
    "    class_mode='binary',\n",
    "    color_mode='grayscale'\n",
    ")\n",
    "\n",
    "test_set = test_datagen.flow_from_directory(\n",
    "    'data/mri/validation',\n",
    "    target_size=(256, 124),\n",
    "    batch_size=32,\n",
    "    class_mode='binary',\n",
    "    color_mode='grayscale'\n",
    ")"
   ],
   "id": "8ae5b9c375fa2e0a",
   "outputs": [
    {
     "name": "stdout",
     "output_type": "stream",
     "text": [
      "Found 18656 images belonging to 2 classes.\n",
      "Found 3292 images belonging to 2 classes.\n"
     ]
    }
   ],
   "execution_count": 7
  },
  {
   "metadata": {
    "ExecuteTime": {
     "end_time": "2024-10-03T19:46:58.571365Z",
     "start_time": "2024-10-03T19:32:47.303295Z"
    }
   },
   "cell_type": "code",
   "source": [
    "# Treinamento da rede\n",
    "classfier.fit(\n",
    "    training_set,\n",
    "    steps_per_epoch=len(training_set),\n",
    "    epochs=6,\n",
    "    validation_data=test_set,\n",
    "    validation_steps=len(test_set)\n",
    ")"
   ],
   "id": "7c4de8b79838723a",
   "outputs": [
    {
     "name": "stdout",
     "output_type": "stream",
     "text": [
      "Epoch 1/6\n",
      "583/583 [==============================] - 123s 210ms/step - loss: 0.4863 - accuracy: 0.7767 - val_loss: 0.3557 - val_accuracy: 0.8499\n",
      "Epoch 2/6\n",
      "583/583 [==============================] - 144s 247ms/step - loss: 0.3081 - accuracy: 0.8713 - val_loss: 0.2844 - val_accuracy: 0.8949\n",
      "Epoch 3/6\n",
      "583/583 [==============================] - 144s 248ms/step - loss: 0.2635 - accuracy: 0.8916 - val_loss: 0.5666 - val_accuracy: 0.7783\n",
      "Epoch 4/6\n",
      "583/583 [==============================] - 146s 250ms/step - loss: 0.2375 - accuracy: 0.9042 - val_loss: 0.6363 - val_accuracy: 0.7725\n",
      "Epoch 5/6\n",
      "583/583 [==============================] - 147s 252ms/step - loss: 0.2142 - accuracy: 0.9129 - val_loss: 0.1970 - val_accuracy: 0.9271\n",
      "Epoch 6/6\n",
      "583/583 [==============================] - 147s 252ms/step - loss: 0.1978 - accuracy: 0.9207 - val_loss: 0.1983 - val_accuracy: 0.9189\n"
     ]
    },
    {
     "data": {
      "text/plain": [
       "<keras.src.callbacks.History at 0x282cbfeca10>"
      ]
     },
     "execution_count": 8,
     "metadata": {},
     "output_type": "execute_result"
    }
   ],
   "execution_count": 8
  },
  {
   "metadata": {},
   "cell_type": "code",
   "outputs": [],
   "execution_count": null,
   "source": [
    "# Teste\n",
    "test_image = image.load_img('data/mri/HC-3051-15313-2588.png', color_mode='grayscale', target_size=(256, 124))\n",
    "test_image = image.img_to_array(test_image)\n",
    "test_image = np.expand_dims(test_image, axis=0) / 255.0  # Normalização\n",
    "\n",
    "result = classfier.predict(test_image)\n",
    "print(result)\n",
    "\n",
    "if result[0][0] >= 0.5:\n",
    "    prediction = 'Not Alzheimer'\n",
    "else:\n",
    "    prediction = 'Alzheimer'\n",
    "print(prediction)"
   ],
   "id": "cf9ecbaf032aec50"
  }
 ],
 "metadata": {
  "kernelspec": {
   "display_name": "Python 3",
   "language": "python",
   "name": "python3"
  },
  "language_info": {
   "codemirror_mode": {
    "name": "ipython",
    "version": 2
   },
   "file_extension": ".py",
   "mimetype": "text/x-python",
   "name": "python",
   "nbconvert_exporter": "python",
   "pygments_lexer": "ipython2",
   "version": "2.7.6"
  }
 },
 "nbformat": 4,
 "nbformat_minor": 5
}
