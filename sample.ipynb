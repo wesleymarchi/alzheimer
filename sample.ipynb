{
 "cells": [
  {
   "metadata": {},
   "cell_type": "markdown",
   "source": "# Alzheimer",
   "id": "8a77807f92f26ee"
  },
  {
   "metadata": {
    "ExecuteTime": {
     "end_time": "2024-10-03T20:18:26.440846Z",
     "start_time": "2024-10-03T20:18:24.523565Z"
    }
   },
   "cell_type": "code",
   "source": [
    "from keras.src.models import Sequential\n",
    "from keras.src.layers import Conv2D, MaxPooling2D, Flatten, Dense\n",
    "from keras.preprocessing.image import ImageDataGenerator\n",
    "import numpy as np\n",
    "from keras.preprocessing import image\n",
    "import tensorflow as tf"
   ],
   "id": "fbc121e30a2defb3",
   "outputs": [],
   "execution_count": 1
  },
  {
   "metadata": {
    "ExecuteTime": {
     "end_time": "2024-10-03T20:18:46.997626Z",
     "start_time": "2024-10-03T20:18:46.993803Z"
    }
   },
   "cell_type": "code",
   "source": [
    "# Verificar se há GPUs disponíveis\n",
    "gpus = tf.config.list_physical_devices('GPU')\n",
    "\n",
    "if gpus:\n",
    "    print(f\"GPUs disponíveis: {gpus}\")\n",
    "else:\n",
    "    print(\"Nenhuma GPU disponível.\")"
   ],
   "id": "539dc514b5ce029",
   "outputs": [
    {
     "name": "stdout",
     "output_type": "stream",
     "text": [
      "Nenhuma GPU disponível.\n"
     ]
    }
   ],
   "execution_count": 2
  },
  {
   "metadata": {
    "ExecuteTime": {
     "end_time": "2024-10-03T20:19:46.099336Z",
     "start_time": "2024-10-03T20:19:46.033473Z"
    }
   },
   "cell_type": "code",
   "source": [
    "# Inicializa a CNN\n",
    "classfier = Sequential()\n",
    "\n",
    "# Convolução e pooling\n",
    "classfier.add(Conv2D(32, (3, 3), input_shape=(256, 124, 1), activation='relu')) \n",
    "classfier.add(MaxPooling2D(pool_size=(2, 2)))\n",
    "\n",
    "classfier.add(Conv2D(64, (3, 3), activation='relu'))\n",
    "classfier.add(MaxPooling2D(pool_size=(2, 2)))\n",
    "\n",
    "classfier.add(Conv2D(128, (3, 3), activation='relu'))\n",
    "classfier.add(MaxPooling2D(pool_size=(2, 2)))\n",
    "\n",
    "classfier.add(Conv2D(256, (3, 3), activation='relu'))\n",
    "classfier.add(MaxPooling2D(pool_size=(2, 2)))\n",
    "\n",
    "# Flattening\n",
    "classfier.add(Flatten())\n",
    "\n",
    "# Conexão completa\n",
    "classfier.add(Dense(units=128, activation='relu'))\n",
    "classfier.add(Dense(units=1, activation='sigmoid'))\n",
    "\n",
    "# Compilando a rede com class_weight\n",
    "classfier.compile(optimizer='adam', loss='binary_crossentropy', metrics=['accuracy', 'Precision', 'Recall'])"
   ],
   "id": "a65b28ddfd9f286c",
   "outputs": [],
   "execution_count": 6
  },
  {
   "metadata": {
    "ExecuteTime": {
     "end_time": "2024-10-03T20:19:47.050127Z",
     "start_time": "2024-10-03T20:19:46.670191Z"
    }
   },
   "cell_type": "code",
   "source": [
    "# Aumentando dados\n",
    "train_datagen = ImageDataGenerator(\n",
    "    rescale=1./255,\n",
    "    shear_range=0.2,\n",
    "    zoom_range=0.2,\n",
    "    horizontal_flip=True)\n",
    "\n",
    "test_datagen = ImageDataGenerator(rescale=1./255)\n",
    "\n",
    "# Assegurando que a proporção de classes seja considerada\n",
    "training_set = train_datagen.flow_from_directory(\n",
    "    'data/mri/train',\n",
    "    target_size=(256, 124),\n",
    "    batch_size=32,\n",
    "    class_mode='binary',\n",
    "    color_mode='grayscale'\n",
    ")\n",
    "\n",
    "test_set = test_datagen.flow_from_directory(\n",
    "    'data/mri/validation',\n",
    "    target_size=(256, 124),\n",
    "    batch_size=32,\n",
    "    class_mode='binary',\n",
    "    color_mode='grayscale'\n",
    ")"
   ],
   "id": "8ae5b9c375fa2e0a",
   "outputs": [
    {
     "name": "stdout",
     "output_type": "stream",
     "text": [
      "Found 18656 images belonging to 2 classes.\n",
      "Found 3292 images belonging to 2 classes.\n"
     ]
    }
   ],
   "execution_count": 7
  },
  {
   "metadata": {
    "ExecuteTime": {
     "end_time": "2024-10-03T20:35:05.016643Z",
     "start_time": "2024-10-03T20:19:48.212382Z"
    }
   },
   "cell_type": "code",
   "source": [
    "# Treinamento da rede\n",
    "classfier.fit(\n",
    "    training_set,\n",
    "    steps_per_epoch=len(training_set),\n",
    "    epochs=5,\n",
    "    validation_data=test_set,\n",
    "    validation_steps=len(test_set)\n",
    ")"
   ],
   "id": "7c4de8b79838723a",
   "outputs": [
    {
     "name": "stdout",
     "output_type": "stream",
     "text": [
      "Epoch 1/5\n",
      "583/583 [==============================] - 160s 273ms/step - loss: 0.3664 - accuracy: 0.8340 - precision: 0.8043 - recall: 0.6825 - val_loss: 0.2390 - val_accuracy: 0.8940 - val_precision: 0.8011 - val_recall: 0.9195\n",
      "Epoch 2/5\n",
      "583/583 [==============================] - 190s 325ms/step - loss: 0.1885 - accuracy: 0.9241 - precision: 0.8951 - recall: 0.8822 - val_loss: 0.1005 - val_accuracy: 0.9620 - val_precision: 0.9483 - val_recall: 0.9407\n",
      "Epoch 3/5\n",
      "583/583 [==============================] - 196s 336ms/step - loss: 0.1226 - accuracy: 0.9524 - precision: 0.9338 - recall: 0.9271 - val_loss: 0.1251 - val_accuracy: 0.9481 - val_precision: 0.8714 - val_recall: 0.9956\n",
      "Epoch 4/5\n",
      "583/583 [==============================] - 183s 314ms/step - loss: 0.0877 - accuracy: 0.9664 - precision: 0.9521 - recall: 0.9500 - val_loss: 0.0537 - val_accuracy: 0.9812 - val_precision: 1.0000 - val_recall: 0.9451\n",
      "Epoch 5/5\n",
      "583/583 [==============================] - 188s 322ms/step - loss: 0.0637 - accuracy: 0.9775 - precision: 0.9672 - recall: 0.9674 - val_loss: 0.0523 - val_accuracy: 0.9790 - val_precision: 0.9492 - val_recall: 0.9920\n"
     ]
    },
    {
     "data": {
      "text/plain": [
       "<keras.src.callbacks.History at 0x1a9de898d10>"
      ]
     },
     "execution_count": 8,
     "metadata": {},
     "output_type": "execute_result"
    }
   ],
   "execution_count": 8
  },
  {
   "metadata": {
    "ExecuteTime": {
     "end_time": "2024-10-03T20:35:23.123425Z",
     "start_time": "2024-10-03T20:35:23.049645Z"
    }
   },
   "cell_type": "code",
   "source": [
    "# Teste\n",
    "test_image = image.load_img('data/mri/AD-0-31273-23010.png', color_mode='grayscale', target_size=(256, 124))\n",
    "test_image = image.img_to_array(test_image)\n",
    "test_image = np.expand_dims(test_image, axis=0) / 255.0  # Normalização\n",
    "\n",
    "result = classfier.predict(test_image)\n",
    "print(result)\n",
    "\n",
    "if result[0][0] >= 0.5:\n",
    "    prediction = 'Not Alzheimer'\n",
    "else:\n",
    "    prediction = 'Alzheimer'\n",
    "print(prediction)"
   ],
   "id": "cf9ecbaf032aec50",
   "outputs": [
    {
     "name": "stdout",
     "output_type": "stream",
     "text": [
      "1/1 [==============================] - 0s 47ms/step\n",
      "[[0.00119768]]\n",
      "Alzheimer\n"
     ]
    }
   ],
   "execution_count": 10
  },
  {
   "metadata": {},
   "cell_type": "code",
   "outputs": [],
   "execution_count": null,
   "source": "",
   "id": "d489504e025dd387"
  }
 ],
 "metadata": {
  "kernelspec": {
   "display_name": "Python 3",
   "language": "python",
   "name": "python3"
  },
  "language_info": {
   "codemirror_mode": {
    "name": "ipython",
    "version": 2
   },
   "file_extension": ".py",
   "mimetype": "text/x-python",
   "name": "python",
   "nbconvert_exporter": "python",
   "pygments_lexer": "ipython2",
   "version": "2.7.6"
  }
 },
 "nbformat": 4,
 "nbformat_minor": 5
}
